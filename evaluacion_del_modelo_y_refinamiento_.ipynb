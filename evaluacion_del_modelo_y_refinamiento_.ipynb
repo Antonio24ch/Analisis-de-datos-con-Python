{
  "nbformat": 4,
  "nbformat_minor": 0,
  "metadata": {
    "anaconda-cloud": {},
    "kernelspec": {
      "display_name": "Python 3",
      "language": "python",
      "name": "python3"
    },
    "language_info": {
      "codemirror_mode": {
        "name": "ipython",
        "version": 3
      },
      "file_extension": ".py",
      "mimetype": "text/x-python",
      "name": "python",
      "nbconvert_exporter": "python",
      "pygments_lexer": "ipython3",
      "version": "3.7.7"
    },
    "colab": {
      "name": "evaluacion-del-modelo-y-refinamiento_ES.ipynb",
      "provenance": [],
      "include_colab_link": true
    },
    "widgets": {
      "application/vnd.jupyter.widget-state+json": {
        "1f627f61a1cb48d7976368261e7ada46": {
          "model_module": "@jupyter-widgets/controls",
          "model_name": "VBoxModel",
          "state": {
            "_view_name": "VBoxView",
            "_dom_classes": [
              "widget-interact"
            ],
            "_model_name": "VBoxModel",
            "_view_module": "@jupyter-widgets/controls",
            "_model_module_version": "1.5.0",
            "_view_count": null,
            "_view_module_version": "1.5.0",
            "box_style": "",
            "layout": "IPY_MODEL_5ef3cb6958da4691b8b764ca8cd81299",
            "_model_module": "@jupyter-widgets/controls",
            "children": [
              "IPY_MODEL_26493c5ee49e43dd9043152f7a378125",
              "IPY_MODEL_1999ecfaa9af4b9c835b71349859d9f8",
              "IPY_MODEL_c0c75d3c2a2d4cf896c4f28a17cbc4ee"
            ]
          }
        },
        "5ef3cb6958da4691b8b764ca8cd81299": {
          "model_module": "@jupyter-widgets/base",
          "model_name": "LayoutModel",
          "state": {
            "_view_name": "LayoutView",
            "grid_template_rows": null,
            "right": null,
            "justify_content": null,
            "_view_module": "@jupyter-widgets/base",
            "overflow": null,
            "_model_module_version": "1.2.0",
            "_view_count": null,
            "flex_flow": null,
            "width": null,
            "min_width": null,
            "border": null,
            "align_items": null,
            "bottom": null,
            "_model_module": "@jupyter-widgets/base",
            "top": null,
            "grid_column": null,
            "overflow_y": null,
            "overflow_x": null,
            "grid_auto_flow": null,
            "grid_area": null,
            "grid_template_columns": null,
            "flex": null,
            "_model_name": "LayoutModel",
            "justify_items": null,
            "grid_row": null,
            "max_height": null,
            "align_content": null,
            "visibility": null,
            "align_self": null,
            "height": null,
            "min_height": null,
            "padding": null,
            "grid_auto_rows": null,
            "grid_gap": null,
            "max_width": null,
            "order": null,
            "_view_module_version": "1.2.0",
            "grid_template_areas": null,
            "object_position": null,
            "object_fit": null,
            "grid_auto_columns": null,
            "margin": null,
            "display": null,
            "left": null
          }
        },
        "26493c5ee49e43dd9043152f7a378125": {
          "model_module": "@jupyter-widgets/controls",
          "model_name": "IntSliderModel",
          "state": {
            "_view_name": "IntSliderView",
            "style": "IPY_MODEL_72cc9c853d3849b2bd8b71350c394161",
            "_dom_classes": [],
            "description": "order",
            "step": 1,
            "_model_name": "IntSliderModel",
            "orientation": "horizontal",
            "max": 6,
            "_view_module": "@jupyter-widgets/controls",
            "_model_module_version": "1.5.0",
            "value": 2,
            "_view_count": null,
            "disabled": false,
            "_view_module_version": "1.5.0",
            "min": 0,
            "continuous_update": true,
            "readout_format": "d",
            "description_tooltip": null,
            "readout": true,
            "_model_module": "@jupyter-widgets/controls",
            "layout": "IPY_MODEL_f5bbb80ed3b841c9a110f66392f844c5"
          }
        },
        "1999ecfaa9af4b9c835b71349859d9f8": {
          "model_module": "@jupyter-widgets/controls",
          "model_name": "FloatSliderModel",
          "state": {
            "_view_name": "FloatSliderView",
            "style": "IPY_MODEL_51c34de1cec842d49571e7ddc879cb7d",
            "_dom_classes": [],
            "description": "test_data",
            "step": 0.05,
            "_model_name": "FloatSliderModel",
            "orientation": "horizontal",
            "max": 0.95,
            "_view_module": "@jupyter-widgets/controls",
            "_model_module_version": "1.5.0",
            "value": 0.45,
            "_view_count": null,
            "disabled": false,
            "_view_module_version": "1.5.0",
            "min": 0.05,
            "continuous_update": true,
            "readout_format": ".2f",
            "description_tooltip": null,
            "readout": true,
            "_model_module": "@jupyter-widgets/controls",
            "layout": "IPY_MODEL_b762f5f4874c4936ab23893287d4cb46"
          }
        },
        "c0c75d3c2a2d4cf896c4f28a17cbc4ee": {
          "model_module": "@jupyter-widgets/output",
          "model_name": "OutputModel",
          "state": {
            "_view_name": "OutputView",
            "msg_id": "",
            "_dom_classes": [],
            "_model_name": "OutputModel",
            "outputs": [
              {
                "output_type": "display_data",
                "metadata": {
                  "tags": [],
                  "needs_background": "light"
                },
                "image/png": "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\n",
                "text/plain": "<Figure size 864x720 with 1 Axes>"
              }
            ],
            "_view_module": "@jupyter-widgets/output",
            "_model_module_version": "1.0.0",
            "_view_count": null,
            "_view_module_version": "1.0.0",
            "layout": "IPY_MODEL_c3db187ebe1c4393a258960029050814",
            "_model_module": "@jupyter-widgets/output"
          }
        },
        "72cc9c853d3849b2bd8b71350c394161": {
          "model_module": "@jupyter-widgets/controls",
          "model_name": "SliderStyleModel",
          "state": {
            "_view_name": "StyleView",
            "handle_color": null,
            "_model_name": "SliderStyleModel",
            "description_width": "",
            "_view_module": "@jupyter-widgets/base",
            "_model_module_version": "1.5.0",
            "_view_count": null,
            "_view_module_version": "1.2.0",
            "_model_module": "@jupyter-widgets/controls"
          }
        },
        "f5bbb80ed3b841c9a110f66392f844c5": {
          "model_module": "@jupyter-widgets/base",
          "model_name": "LayoutModel",
          "state": {
            "_view_name": "LayoutView",
            "grid_template_rows": null,
            "right": null,
            "justify_content": null,
            "_view_module": "@jupyter-widgets/base",
            "overflow": null,
            "_model_module_version": "1.2.0",
            "_view_count": null,
            "flex_flow": null,
            "width": null,
            "min_width": null,
            "border": null,
            "align_items": null,
            "bottom": null,
            "_model_module": "@jupyter-widgets/base",
            "top": null,
            "grid_column": null,
            "overflow_y": null,
            "overflow_x": null,
            "grid_auto_flow": null,
            "grid_area": null,
            "grid_template_columns": null,
            "flex": null,
            "_model_name": "LayoutModel",
            "justify_items": null,
            "grid_row": null,
            "max_height": null,
            "align_content": null,
            "visibility": null,
            "align_self": null,
            "height": null,
            "min_height": null,
            "padding": null,
            "grid_auto_rows": null,
            "grid_gap": null,
            "max_width": null,
            "order": null,
            "_view_module_version": "1.2.0",
            "grid_template_areas": null,
            "object_position": null,
            "object_fit": null,
            "grid_auto_columns": null,
            "margin": null,
            "display": null,
            "left": null
          }
        },
        "51c34de1cec842d49571e7ddc879cb7d": {
          "model_module": "@jupyter-widgets/controls",
          "model_name": "SliderStyleModel",
          "state": {
            "_view_name": "StyleView",
            "handle_color": null,
            "_model_name": "SliderStyleModel",
            "description_width": "",
            "_view_module": "@jupyter-widgets/base",
            "_model_module_version": "1.5.0",
            "_view_count": null,
            "_view_module_version": "1.2.0",
            "_model_module": "@jupyter-widgets/controls"
          }
        },
        "b762f5f4874c4936ab23893287d4cb46": {
          "model_module": "@jupyter-widgets/base",
          "model_name": "LayoutModel",
          "state": {
            "_view_name": "LayoutView",
            "grid_template_rows": null,
            "right": null,
            "justify_content": null,
            "_view_module": "@jupyter-widgets/base",
            "overflow": null,
            "_model_module_version": "1.2.0",
            "_view_count": null,
            "flex_flow": null,
            "width": null,
            "min_width": null,
            "border": null,
            "align_items": null,
            "bottom": null,
            "_model_module": "@jupyter-widgets/base",
            "top": null,
            "grid_column": null,
            "overflow_y": null,
            "overflow_x": null,
            "grid_auto_flow": null,
            "grid_area": null,
            "grid_template_columns": null,
            "flex": null,
            "_model_name": "LayoutModel",
            "justify_items": null,
            "grid_row": null,
            "max_height": null,
            "align_content": null,
            "visibility": null,
            "align_self": null,
            "height": null,
            "min_height": null,
            "padding": null,
            "grid_auto_rows": null,
            "grid_gap": null,
            "max_width": null,
            "order": null,
            "_view_module_version": "1.2.0",
            "grid_template_areas": null,
            "object_position": null,
            "object_fit": null,
            "grid_auto_columns": null,
            "margin": null,
            "display": null,
            "left": null
          }
        },
        "c3db187ebe1c4393a258960029050814": {
          "model_module": "@jupyter-widgets/base",
          "model_name": "LayoutModel",
          "state": {
            "_view_name": "LayoutView",
            "grid_template_rows": null,
            "right": null,
            "justify_content": null,
            "_view_module": "@jupyter-widgets/base",
            "overflow": null,
            "_model_module_version": "1.2.0",
            "_view_count": null,
            "flex_flow": null,
            "width": null,
            "min_width": null,
            "border": null,
            "align_items": null,
            "bottom": null,
            "_model_module": "@jupyter-widgets/base",
            "top": null,
            "grid_column": null,
            "overflow_y": null,
            "overflow_x": null,
            "grid_auto_flow": null,
            "grid_area": null,
            "grid_template_columns": null,
            "flex": null,
            "_model_name": "LayoutModel",
            "justify_items": null,
            "grid_row": null,
            "max_height": null,
            "align_content": null,
            "visibility": null,
            "align_self": null,
            "height": null,
            "min_height": null,
            "padding": null,
            "grid_auto_rows": null,
            "grid_gap": null,
            "max_width": null,
            "order": null,
            "_view_module_version": "1.2.0",
            "grid_template_areas": null,
            "object_position": null,
            "object_fit": null,
            "grid_auto_columns": null,
            "margin": null,
            "display": null,
            "left": null
          }
        }
      }
    }
  },
  "cells": [
    {
      "cell_type": "markdown",
      "metadata": {
        "id": "view-in-github",
        "colab_type": "text"
      },
      "source": [
        "<a href=\"https://colab.research.google.com/github/Antonio24ch/Analisis-de-datos-con-Python/blob/main/evaluacion_del_modelo_y_refinamiento_.ipynb\" target=\"_parent\"><img src=\"https://colab.research.google.com/assets/colab-badge.svg\" alt=\"Open In Colab\"/></a>"
      ]
    },
    {
      "cell_type": "markdown",
      "metadata": {
        "id": "hfZAiOh2LA0i"
      },
      "source": [
        "<a href=\"https://www.bigdatauniversity.com\"><img src=\"https://s3-api.us-geo.objectstorage.softlayer.net/cf-courses-data/CognitiveClass/DA0101EN/Images/CCLog.png\" width=300, align=\"center\"></a>\n",
        "\n",
        "<h1 align=center><font size=5>Análisis de Datos con Python</font></h1>\n"
      ]
    },
    {
      "cell_type": "markdown",
      "metadata": {
        "id": "XjLH91CqLA0j"
      },
      "source": [
        "<h1>Modulo 5: Evaluación del Modelo y Refinamiento</h1>\n",
        "\n",
        "Hemos desarrollado modelos y hecho predicciones para los precios de los vehiculos. Ahora determinaremos que tan precisas son estas predicciones.\n"
      ]
    },
    {
      "cell_type": "markdown",
      "metadata": {
        "id": "80MErOFnLA0k"
      },
      "source": [
        "<h1>Indice</h1>\n",
        "<ul>\n",
        "    <li><a href=\"#ref1\">Evaluación del Modelo </a></li>\n",
        "    <li><a href=\"#ref2\">Sobre ajuste, sub ajuste y Selección del Modelo </a></li>\n",
        "    <li><a href=\"#ref3\">Regresión de Cresta</a></li>\n",
        "    <li><a href=\"#ref4\">Busqueda en Rejilla</a></li>\n",
        "</ul>\n"
      ]
    },
    {
      "cell_type": "code",
      "metadata": {
        "collapsed": true,
        "id": "ccIv2j3RLA0l"
      },
      "source": [
        "import pandas as pd\n",
        "import numpy as np\n",
        "\n",
        "# importar datos en limpio\n",
        "path = 'https://s3-api.us-geo.objectstorage.softlayer.net/cf-courses-data/CognitiveClass/DA0101EN/module_5_auto.csv'\n",
        "df = pd.read_csv(path)"
      ],
      "execution_count": 1,
      "outputs": []
    },
    {
      "cell_type": "code",
      "metadata": {
        "id": "-U5U326_LA0m"
      },
      "source": [
        "df.to_csv('module_5_auto.csv')"
      ],
      "execution_count": 2,
      "outputs": []
    },
    {
      "cell_type": "markdown",
      "metadata": {
        "id": "Y3LT_WprLA0o"
      },
      "source": [
        "Primero usemos unicamente datos numericos\n"
      ]
    },
    {
      "cell_type": "code",
      "metadata": {
        "scrolled": false,
        "colab": {
          "base_uri": "https://localhost:8080/",
          "height": 238
        },
        "id": "-og14LxvLA0o",
        "outputId": "289ee6d2-0f88-48fb-ca48-d4cb9271833b"
      },
      "source": [
        "df=df._get_numeric_data()\n",
        "df.head()"
      ],
      "execution_count": 3,
      "outputs": [
        {
          "output_type": "execute_result",
          "data": {
            "text/html": [
              "<div>\n",
              "<style scoped>\n",
              "    .dataframe tbody tr th:only-of-type {\n",
              "        vertical-align: middle;\n",
              "    }\n",
              "\n",
              "    .dataframe tbody tr th {\n",
              "        vertical-align: top;\n",
              "    }\n",
              "\n",
              "    .dataframe thead th {\n",
              "        text-align: right;\n",
              "    }\n",
              "</style>\n",
              "<table border=\"1\" class=\"dataframe\">\n",
              "  <thead>\n",
              "    <tr style=\"text-align: right;\">\n",
              "      <th></th>\n",
              "      <th>Unnamed: 0</th>\n",
              "      <th>Unnamed: 0.1</th>\n",
              "      <th>symboling</th>\n",
              "      <th>normalized-losses</th>\n",
              "      <th>wheel-base</th>\n",
              "      <th>length</th>\n",
              "      <th>width</th>\n",
              "      <th>height</th>\n",
              "      <th>curb-weight</th>\n",
              "      <th>engine-size</th>\n",
              "      <th>bore</th>\n",
              "      <th>stroke</th>\n",
              "      <th>compression-ratio</th>\n",
              "      <th>horsepower</th>\n",
              "      <th>peak-rpm</th>\n",
              "      <th>city-mpg</th>\n",
              "      <th>highway-mpg</th>\n",
              "      <th>price</th>\n",
              "      <th>city-L/100km</th>\n",
              "      <th>diesel</th>\n",
              "      <th>gas</th>\n",
              "    </tr>\n",
              "  </thead>\n",
              "  <tbody>\n",
              "    <tr>\n",
              "      <th>0</th>\n",
              "      <td>0</td>\n",
              "      <td>0</td>\n",
              "      <td>3</td>\n",
              "      <td>122</td>\n",
              "      <td>88.6</td>\n",
              "      <td>0.811148</td>\n",
              "      <td>0.890278</td>\n",
              "      <td>48.8</td>\n",
              "      <td>2548</td>\n",
              "      <td>130</td>\n",
              "      <td>3.47</td>\n",
              "      <td>2.68</td>\n",
              "      <td>9.0</td>\n",
              "      <td>111.0</td>\n",
              "      <td>5000.0</td>\n",
              "      <td>21</td>\n",
              "      <td>27</td>\n",
              "      <td>13495.0</td>\n",
              "      <td>11.190476</td>\n",
              "      <td>0</td>\n",
              "      <td>1</td>\n",
              "    </tr>\n",
              "    <tr>\n",
              "      <th>1</th>\n",
              "      <td>1</td>\n",
              "      <td>1</td>\n",
              "      <td>3</td>\n",
              "      <td>122</td>\n",
              "      <td>88.6</td>\n",
              "      <td>0.811148</td>\n",
              "      <td>0.890278</td>\n",
              "      <td>48.8</td>\n",
              "      <td>2548</td>\n",
              "      <td>130</td>\n",
              "      <td>3.47</td>\n",
              "      <td>2.68</td>\n",
              "      <td>9.0</td>\n",
              "      <td>111.0</td>\n",
              "      <td>5000.0</td>\n",
              "      <td>21</td>\n",
              "      <td>27</td>\n",
              "      <td>16500.0</td>\n",
              "      <td>11.190476</td>\n",
              "      <td>0</td>\n",
              "      <td>1</td>\n",
              "    </tr>\n",
              "    <tr>\n",
              "      <th>2</th>\n",
              "      <td>2</td>\n",
              "      <td>2</td>\n",
              "      <td>1</td>\n",
              "      <td>122</td>\n",
              "      <td>94.5</td>\n",
              "      <td>0.822681</td>\n",
              "      <td>0.909722</td>\n",
              "      <td>52.4</td>\n",
              "      <td>2823</td>\n",
              "      <td>152</td>\n",
              "      <td>2.68</td>\n",
              "      <td>3.47</td>\n",
              "      <td>9.0</td>\n",
              "      <td>154.0</td>\n",
              "      <td>5000.0</td>\n",
              "      <td>19</td>\n",
              "      <td>26</td>\n",
              "      <td>16500.0</td>\n",
              "      <td>12.368421</td>\n",
              "      <td>0</td>\n",
              "      <td>1</td>\n",
              "    </tr>\n",
              "    <tr>\n",
              "      <th>3</th>\n",
              "      <td>3</td>\n",
              "      <td>3</td>\n",
              "      <td>2</td>\n",
              "      <td>164</td>\n",
              "      <td>99.8</td>\n",
              "      <td>0.848630</td>\n",
              "      <td>0.919444</td>\n",
              "      <td>54.3</td>\n",
              "      <td>2337</td>\n",
              "      <td>109</td>\n",
              "      <td>3.19</td>\n",
              "      <td>3.40</td>\n",
              "      <td>10.0</td>\n",
              "      <td>102.0</td>\n",
              "      <td>5500.0</td>\n",
              "      <td>24</td>\n",
              "      <td>30</td>\n",
              "      <td>13950.0</td>\n",
              "      <td>9.791667</td>\n",
              "      <td>0</td>\n",
              "      <td>1</td>\n",
              "    </tr>\n",
              "    <tr>\n",
              "      <th>4</th>\n",
              "      <td>4</td>\n",
              "      <td>4</td>\n",
              "      <td>2</td>\n",
              "      <td>164</td>\n",
              "      <td>99.4</td>\n",
              "      <td>0.848630</td>\n",
              "      <td>0.922222</td>\n",
              "      <td>54.3</td>\n",
              "      <td>2824</td>\n",
              "      <td>136</td>\n",
              "      <td>3.19</td>\n",
              "      <td>3.40</td>\n",
              "      <td>8.0</td>\n",
              "      <td>115.0</td>\n",
              "      <td>5500.0</td>\n",
              "      <td>18</td>\n",
              "      <td>22</td>\n",
              "      <td>17450.0</td>\n",
              "      <td>13.055556</td>\n",
              "      <td>0</td>\n",
              "      <td>1</td>\n",
              "    </tr>\n",
              "  </tbody>\n",
              "</table>\n",
              "</div>"
            ],
            "text/plain": [
              "   Unnamed: 0  Unnamed: 0.1  symboling  ...  city-L/100km  diesel  gas\n",
              "0           0             0          3  ...     11.190476       0    1\n",
              "1           1             1          3  ...     11.190476       0    1\n",
              "2           2             2          1  ...     12.368421       0    1\n",
              "3           3             3          2  ...      9.791667       0    1\n",
              "4           4             4          2  ...     13.055556       0    1\n",
              "\n",
              "[5 rows x 21 columns]"
            ]
          },
          "metadata": {
            "tags": []
          },
          "execution_count": 3
        }
      ]
    },
    {
      "cell_type": "markdown",
      "metadata": {
        "id": "Yv6WKjnmLA0s"
      },
      "source": [
        " Librerias para graficar\n"
      ]
    },
    {
      "cell_type": "code",
      "metadata": {
        "id": "u1qSqDD8LA0t"
      },
      "source": [
        "%%capture\n",
        "! pip install ipywidgets"
      ],
      "execution_count": null,
      "outputs": []
    },
    {
      "cell_type": "code",
      "metadata": {
        "colab": {
          "base_uri": "https://localhost:8080/"
        },
        "id": "63RLUTqlLA0t",
        "outputId": "006fddd2-ca98-4302-df2f-8df9d257029f"
      },
      "source": [
        "from IPython.display import display\n",
        "from IPython.html import widgets \n",
        "from IPython.display import display\n",
        "from ipywidgets import interact, interactive, fixed, interact_manual"
      ],
      "execution_count": 4,
      "outputs": [
        {
          "output_type": "stream",
          "text": [
            "/usr/local/lib/python3.7/dist-packages/IPython/html.py:14: ShimWarning: The `IPython.html` package has been deprecated since IPython 4.0. You should import from `notebook` instead. `IPython.html.widgets` has moved to `ipywidgets`.\n",
            "  \"`IPython.html.widgets` has moved to `ipywidgets`.\", ShimWarning)\n"
          ],
          "name": "stderr"
        }
      ]
    },
    {
      "cell_type": "markdown",
      "metadata": {
        "id": "h1zwrSdoLA0u"
      },
      "source": [
        "<h2>Funciones para graficar</h2>\n"
      ]
    },
    {
      "cell_type": "code",
      "metadata": {
        "id": "0hOu4lT6LA0u"
      },
      "source": [
        "def DistributionPlot(RedFunction, BlueFunction, RedName, BlueName, Title):\n",
        "    width = 12\n",
        "    height = 10\n",
        "    plt.figure(figsize=(width, height))\n",
        "\n",
        "    ax1 = sns.distplot(RedFunction, hist=False, color=\"r\", label=RedName)\n",
        "    ax2 = sns.distplot(BlueFunction, hist=False, color=\"b\", label=BlueName, ax=ax1)\n",
        "\n",
        "    plt.title(Title)\n",
        "    plt.xlabel('Price (in dollars)')\n",
        "    plt.ylabel('Proportion of Cars')\n",
        "\n",
        "    plt.show()\n",
        "    plt.close()"
      ],
      "execution_count": 5,
      "outputs": []
    },
    {
      "cell_type": "code",
      "metadata": {
        "id": "IuUVQfg9LA0v"
      },
      "source": [
        "def PollyPlot(xtrain, xtest, y_train, y_test, lr,poly_transform):\n",
        "    width = 12\n",
        "    height = 10\n",
        "    plt.figure(figsize=(width, height))\n",
        "    \n",
        "    \n",
        "    #datos de entrenamiento\n",
        "    #datos de prueba\n",
        "    # lr:  objeto de regresión lineal \n",
        "    #poly_transform:  objeto de transformación polinomial \n",
        " \n",
        "    xmax=max([xtrain.values.max(), xtest.values.max()])\n",
        "\n",
        "    xmin=min([xtrain.values.min(), xtest.values.min()])\n",
        "\n",
        "    x=np.arange(xmin, xmax, 0.1)\n",
        "\n",
        "\n",
        "    plt.plot(xtrain, y_train, 'ro', label='Training Data')\n",
        "    plt.plot(xtest, y_test, 'go', label='Test Data')\n",
        "    plt.plot(x, lr.predict(poly_transform.fit_transform(x.reshape(-1, 1))), label='Predicted Function')\n",
        "    plt.ylim([-10000, 60000])\n",
        "    plt.ylabel('Price')\n",
        "    plt.legend()"
      ],
      "execution_count": 6,
      "outputs": []
    },
    {
      "cell_type": "markdown",
      "metadata": {
        "id": "MpQz6LInLA0w"
      },
      "source": [
        "<h1 id=\"ref1\">Parte 1: Entrenamiento y Pruebas</h1>\n",
        "\n",
        "<p>Un paso importante para probrar el modelo es dividir los datos en dos, los de entrenamiento y los de pruebas. Se colocarán los datos objetivo <b>price</b> en un dataframe <b>y</b> por separado.</p>\n"
      ]
    },
    {
      "cell_type": "code",
      "metadata": {
        "id": "L2VSgMPjLA0w"
      },
      "source": [
        "y_data = df['price']"
      ],
      "execution_count": 7,
      "outputs": []
    },
    {
      "cell_type": "markdown",
      "metadata": {
        "id": "WIv_cZksLA0x"
      },
      "source": [
        "eliminar datos de \"price\" en \"x data\"\n"
      ]
    },
    {
      "cell_type": "code",
      "metadata": {
        "collapsed": true,
        "id": "S5ZaUhgpLA0x"
      },
      "source": [
        "x_data=df.drop('price',axis=1)"
      ],
      "execution_count": 8,
      "outputs": []
    },
    {
      "cell_type": "markdown",
      "metadata": {
        "id": "0DSI-qppLA0x"
      },
      "source": [
        "Ahora dividimos al azar nuestros datos en los de entrenamiento y pruebas haciendo uso de la función <b>train_test_split</b>.\n"
      ]
    },
    {
      "cell_type": "code",
      "metadata": {
        "colab": {
          "base_uri": "https://localhost:8080/"
        },
        "id": "0e2Cpnt7LA0y",
        "outputId": "01671ca1-ac9b-4fc0-b655-4ef01853be2d"
      },
      "source": [
        "from sklearn.model_selection import train_test_split\n",
        "\n",
        "\n",
        "x_train, x_test, y_train, y_test = train_test_split(x_data, y_data, test_size=0.15, random_state=1)\n",
        "\n",
        "\n",
        "print(\"number of test samples :\", x_test.shape[0])\n",
        "print(\"number of training samples:\",x_train.shape[0])\n"
      ],
      "execution_count": 9,
      "outputs": [
        {
          "output_type": "stream",
          "text": [
            "number of test samples : 31\n",
            "number of training samples: 170\n"
          ],
          "name": "stdout"
        }
      ]
    },
    {
      "cell_type": "markdown",
      "metadata": {
        "id": "8L9sz-DfLA0y"
      },
      "source": [
        "El parametro <b>test_size</b> establece la proporción de datos que es dividida para el conjunto de pruebas. Arriba el conjunto de pruebas ha sido establecido como el 10% del total del conjunto de datos.\n"
      ]
    },
    {
      "cell_type": "markdown",
      "metadata": {
        "id": "io80cmbbLA0y"
      },
      "source": [
        "<div class=\"alert alert-danger alertdanger\" style=\"margin-top: 20px\">\n",
        "<h1> Pregunta  #1):</h1>\n",
        "\n",
        "<b>Utilizar la función \"train_test_split\" para dividir el conjunto de datos tal que el 40% de las muestras seran usadas para las pruebas, establezca el parametro \"random_state\" igual a cero. La salida de la función debería ser de la siguiente forma:  \"x_train_1\" , \"x_test_1\", \"y_train_1\" and  \"y_test_1\". </b>\n",
        "\n",
        "</div>\n"
      ]
    },
    {
      "cell_type": "code",
      "metadata": {
        "collapsed": true,
        "colab": {
          "base_uri": "https://localhost:8080/"
        },
        "id": "ZOfQrJXDLA0z",
        "outputId": "1345163c-0556-491c-d0a4-d477a62a0dd1"
      },
      "source": [
        "# Escribe tu código aquí y presiona Shift+Enter para ejecutar\n",
        "x_train1,x_test1,y_train1,y_test1= train_test_split(x_data,y_data,test_size=0.4,random_state=0)\n",
        "print('number of test samples :', x_test1.shape[0])\n",
        "print('number of training samples :', x_train1.shape[0])"
      ],
      "execution_count": 12,
      "outputs": [
        {
          "output_type": "stream",
          "text": [
            "number of test samples : 81\n",
            "number of training samples : 120\n"
          ],
          "name": "stdout"
        }
      ]
    },
    {
      "cell_type": "markdown",
      "metadata": {
        "id": "MpN0QFHiLA00"
      },
      "source": [
        "Importemos <b>LinearRegression</b> desde el módulo <b>linear_model</b>.\n"
      ]
    },
    {
      "cell_type": "code",
      "metadata": {
        "id": "yIR4CJM6LA00"
      },
      "source": [
        "from sklearn.linear_model import LinearRegression"
      ],
      "execution_count": 13,
      "outputs": []
    },
    {
      "cell_type": "markdown",
      "metadata": {
        "id": "NIz9ELErLA00"
      },
      "source": [
        "Generamos un objeto de Regresión Lineal:\n"
      ]
    },
    {
      "cell_type": "code",
      "metadata": {
        "id": "IyTw77FOLA01"
      },
      "source": [
        "lre=LinearRegression()"
      ],
      "execution_count": 14,
      "outputs": []
    },
    {
      "cell_type": "markdown",
      "metadata": {
        "id": "vCQWCY4xLA01"
      },
      "source": [
        "Ajustamos el modelo usando la caracteristica horsepower\n"
      ]
    },
    {
      "cell_type": "code",
      "metadata": {
        "colab": {
          "base_uri": "https://localhost:8080/"
        },
        "id": "LaNqL1HyLA01",
        "outputId": "3c035194-04b1-4c06-fd04-4df631475769"
      },
      "source": [
        "lre.fit(x_train[['horsepower']], y_train)"
      ],
      "execution_count": 15,
      "outputs": [
        {
          "output_type": "execute_result",
          "data": {
            "text/plain": [
              "LinearRegression(copy_X=True, fit_intercept=True, n_jobs=None, normalize=False)"
            ]
          },
          "metadata": {
            "tags": []
          },
          "execution_count": 15
        }
      ]
    },
    {
      "cell_type": "markdown",
      "metadata": {
        "id": "5hAoFfPQLA02"
      },
      "source": [
        "Calculemos R^2 del conjunto de prueba:\n"
      ]
    },
    {
      "cell_type": "code",
      "metadata": {
        "colab": {
          "base_uri": "https://localhost:8080/"
        },
        "id": "fSgt2sTjLA02",
        "outputId": "b066e687-9b22-48c8-dc0e-807de8beabcb"
      },
      "source": [
        "lre.score(x_test[['horsepower']], y_test)"
      ],
      "execution_count": 16,
      "outputs": [
        {
          "output_type": "execute_result",
          "data": {
            "text/plain": [
              "0.707688374146705"
            ]
          },
          "metadata": {
            "tags": []
          },
          "execution_count": 16
        }
      ]
    },
    {
      "cell_type": "markdown",
      "metadata": {
        "id": "gB_qG574LA04"
      },
      "source": [
        "Podemos observar que R^2 es mucho mas pequeño al utilizar los datos de prueba.\n"
      ]
    },
    {
      "cell_type": "code",
      "metadata": {
        "colab": {
          "base_uri": "https://localhost:8080/"
        },
        "id": "msWx_a0fLA05",
        "outputId": "529ca5f5-9dd9-4164-ab30-bb3f7a32542a"
      },
      "source": [
        "lre.score(x_train[['horsepower']], y_train)"
      ],
      "execution_count": 17,
      "outputs": [
        {
          "output_type": "execute_result",
          "data": {
            "text/plain": [
              "0.6449517437659684"
            ]
          },
          "metadata": {
            "tags": []
          },
          "execution_count": 17
        }
      ]
    },
    {
      "cell_type": "markdown",
      "metadata": {
        "id": "2xQkswLlLA05"
      },
      "source": [
        "<div class=\"alert alert-danger alertdanger\" style=\"margin-top: 20px\">\n",
        "<h1> Pregunta  #2): </h1>\n",
        "<b>\n",
        "Encuentre R^2 en el conjunto de pruebas usando el 90% de los datos para entrenamiento    \n",
        " </b>\n",
        "</div>\n"
      ]
    },
    {
      "cell_type": "code",
      "metadata": {
        "colab": {
          "base_uri": "https://localhost:8080/"
        },
        "id": "rpaIWF_mLA05",
        "outputId": "c21cd402-8bee-4d16-a3a3-bf2da8d3baf6"
      },
      "source": [
        "# Escribe tu código aquí y presiona Shift+Enter para ejecutar\n",
        "x_train1, x_test1, y_train1, y_test1 = train_test_split(x_data, y_data, test_size=0.1, random_state=0)\n",
        "lre.fit(x_train1[['horsepower']],y_train1)\n",
        "lre.score(x_test1[['horsepower']],y_test1)"
      ],
      "execution_count": 18,
      "outputs": [
        {
          "output_type": "execute_result",
          "data": {
            "text/plain": [
              "0.7340722810055448"
            ]
          },
          "metadata": {
            "tags": []
          },
          "execution_count": 18
        }
      ]
    },
    {
      "cell_type": "markdown",
      "metadata": {
        "id": "yegeYXCqLA09"
      },
      "source": [
        " Sometimes you do not have sufficient testing data; as a result, you may want to perform Cross-validation. Let's  go over several methods that you can use for  Cross-validation. \n"
      ]
    },
    {
      "cell_type": "markdown",
      "metadata": {
        "id": "HicwSzfFLA0-"
      },
      "source": [
        "<h2>Puntuación con Validación Cruzada</h2>\n"
      ]
    },
    {
      "cell_type": "markdown",
      "metadata": {
        "id": "Dnb-RTonLA0_"
      },
      "source": [
        "Importemos <b>model_selection</b> desde el modulo <b>cross_val_score</b>.\n"
      ]
    },
    {
      "cell_type": "code",
      "metadata": {
        "id": "QDKEwkh7LA1B"
      },
      "source": [
        "from sklearn.model_selection import cross_val_score"
      ],
      "execution_count": 19,
      "outputs": []
    },
    {
      "cell_type": "markdown",
      "metadata": {
        "id": "pu8zJcnhLA1C"
      },
      "source": [
        "Introducimos el objeto, la caracteristica es en este caso 'horsepower', el dato objetivo (y_data). El parametro 'cv' determina el número de pliegues; en este caso 4.\n"
      ]
    },
    {
      "cell_type": "code",
      "metadata": {
        "id": "msdbMBm8LA1C"
      },
      "source": [
        "Rcross = cross_val_score(lre, x_data[['horsepower']], y_data, cv=4)"
      ],
      "execution_count": 20,
      "outputs": []
    },
    {
      "cell_type": "markdown",
      "metadata": {
        "id": "HXI2f9HaLA1C"
      },
      "source": [
        "La puntuación por defecto es R^2; cada elemento en el arreglo tiene el valor promedio de R^2 en el pliegue:\n"
      ]
    },
    {
      "cell_type": "code",
      "metadata": {
        "colab": {
          "base_uri": "https://localhost:8080/"
        },
        "id": "tl66mATeLA1D",
        "outputId": "558c3329-698b-41b7-f066-af4626cbdc81"
      },
      "source": [
        "Rcross"
      ],
      "execution_count": 21,
      "outputs": [
        {
          "output_type": "execute_result",
          "data": {
            "text/plain": [
              "array([0.7746232 , 0.51716687, 0.74785353, 0.04839605])"
            ]
          },
          "metadata": {
            "tags": []
          },
          "execution_count": 21
        }
      ]
    },
    {
      "cell_type": "markdown",
      "metadata": {
        "id": "PE96faKYLA1D"
      },
      "source": [
        "Calculamos el promedio y la desviación estandar de nuestra estimación:\n"
      ]
    },
    {
      "cell_type": "code",
      "metadata": {
        "colab": {
          "base_uri": "https://localhost:8080/"
        },
        "id": "6bp-0L_mLA1D",
        "outputId": "178a75a4-4737-4207-e1ef-92e8829a153e"
      },
      "source": [
        "print(\"The mean of the folds are\", Rcross.mean(), \"and the standard deviation is\" , Rcross.std())"
      ],
      "execution_count": 22,
      "outputs": [
        {
          "output_type": "stream",
          "text": [
            "The mean of the folds are 0.522009915042119 and the standard deviation is 0.291183944475603\n"
          ],
          "name": "stdout"
        }
      ]
    },
    {
      "cell_type": "markdown",
      "metadata": {
        "id": "iHc5UhoiLA1E"
      },
      "source": [
        "Podemos usar el error cuadrático negativo como puntuación estableciendo el parametro 'scoring' a 'neg_mean_squared_error'.\n"
      ]
    },
    {
      "cell_type": "code",
      "metadata": {
        "colab": {
          "base_uri": "https://localhost:8080/"
        },
        "id": "R-QKJ8a2LA1E",
        "outputId": "f3a79a62-9046-4735-ed7a-c080eba158fa"
      },
      "source": [
        "-1 * cross_val_score(lre,x_data[['horsepower']], y_data,cv=4,scoring='neg_mean_squared_error')"
      ],
      "execution_count": 23,
      "outputs": [
        {
          "output_type": "execute_result",
          "data": {
            "text/plain": [
              "array([20254142.84026702, 43745493.2650517 , 12539630.34014931,\n",
              "       17561927.72247591])"
            ]
          },
          "metadata": {
            "tags": []
          },
          "execution_count": 23
        }
      ]
    },
    {
      "cell_type": "markdown",
      "metadata": {
        "id": "E6efjuu_LA1E"
      },
      "source": [
        "<div class=\"alert alert-danger alertdanger\" style=\"margin-top: 20px\">\n",
        "<h1> Pregunta  #3): </h1>\n",
        "<b> \n",
        "Calcular el promedio de R^2 usando dos pliegues, encuentre el promedio de R^2 para el segundo pliegue utilizando \"horsepower\" como característica:   \n",
        "</b>\n",
        "</div>\n"
      ]
    },
    {
      "cell_type": "code",
      "metadata": {
        "colab": {
          "base_uri": "https://localhost:8080/"
        },
        "id": "O8VTH8UWLA1E",
        "outputId": "3674dc3d-ce9d-41f5-9712-3e116ece6234"
      },
      "source": [
        "# Escribe tu código aquí y presiona Shift+Enter para ejecutar\n",
        "Rc=cross_val_score(lre,x_data[['horsepower']], y_data,cv=2)\n",
        "Rc.mean()"
      ],
      "execution_count": 24,
      "outputs": [
        {
          "output_type": "execute_result",
          "data": {
            "text/plain": [
              "0.5166761697127429"
            ]
          },
          "metadata": {
            "tags": []
          },
          "execution_count": 24
        }
      ]
    },
    {
      "cell_type": "markdown",
      "metadata": {
        "id": "bBEQOryGLA1F"
      },
      "source": [
        "Puede usar además la función 'cross_val_predict' para predecir la salida. La función divide los datos en el número especificado de pliegues utilizando uno de ellos para predecir mientras el resto son usados como datos de prueba. Importe primero la función:\n"
      ]
    },
    {
      "cell_type": "code",
      "metadata": {
        "collapsed": true,
        "id": "bZQjf5F-LA1F"
      },
      "source": [
        "from sklearn.model_selection import cross_val_predict"
      ],
      "execution_count": 25,
      "outputs": []
    },
    {
      "cell_type": "markdown",
      "metadata": {
        "id": "0KS9UJY7LA1G"
      },
      "source": [
        "Introducimos el objeto, la característica <b>'horsepower'</b> en este caso, los datos <b>y_data</b>. El parametro 'cv' determina el número de pliegues; en este caso, 4. Generamos una salida:\n"
      ]
    },
    {
      "cell_type": "code",
      "metadata": {
        "colab": {
          "base_uri": "https://localhost:8080/"
        },
        "id": "RWW8GGE9LA1H",
        "outputId": "d6312ef7-9c6c-4d3d-9ca7-9086370a6a05"
      },
      "source": [
        "yhat = cross_val_predict(lre,x_data[['horsepower']], y_data,cv=4)\n",
        "yhat[0:5]"
      ],
      "execution_count": 26,
      "outputs": [
        {
          "output_type": "execute_result",
          "data": {
            "text/plain": [
              "array([14141.63807508, 14141.63807508, 20814.29423473, 12745.03562306,\n",
              "       14762.35027598])"
            ]
          },
          "metadata": {
            "tags": []
          },
          "execution_count": 26
        }
      ]
    },
    {
      "cell_type": "markdown",
      "metadata": {
        "id": "HlYyGyUWLA1I"
      },
      "source": [
        "<h1 id=\"ref2\">Parte 2: Sobre ajuste, sub ajuste y Selección del Modelo</h1>\n",
        "\n",
        "<p>Al parecer los datos de prueba algunas veces referidos como los datos de ejemplo son mejores para medir que tan bien se comporta el modelo en el mundo real. Una razón para esto es el sobre ajuste; veamos algunos ejemplos. Al parecer estas diferencias son mas visibles en la Regresión Lineal Multiple y Polinomial asi que analizaremos el sobre ajuste dentro de este contexto.</p>\n"
      ]
    },
    {
      "cell_type": "markdown",
      "metadata": {
        "id": "Gfa-IhB2LA1J"
      },
      "source": [
        "Generemos objetos de Regresión lineal multiple y a entrenar el modelo utilizando <b>'horsepower'</b>, <b>'curb-weight'</b>, <b>'engine-size'</b> y <b>'highway-mpg'</b> como características.\n"
      ]
    },
    {
      "cell_type": "code",
      "metadata": {
        "colab": {
          "base_uri": "https://localhost:8080/"
        },
        "id": "6lJ_JupILA1J",
        "outputId": "4824fa4f-8102-4563-b5a8-bd8fe9ce32cb"
      },
      "source": [
        "lr = LinearRegression()\n",
        "lr.fit(x_train[['horsepower', 'curb-weight', 'engine-size', 'highway-mpg']], y_train)"
      ],
      "execution_count": 27,
      "outputs": [
        {
          "output_type": "execute_result",
          "data": {
            "text/plain": [
              "LinearRegression(copy_X=True, fit_intercept=True, n_jobs=None, normalize=False)"
            ]
          },
          "metadata": {
            "tags": []
          },
          "execution_count": 27
        }
      ]
    },
    {
      "cell_type": "markdown",
      "metadata": {
        "id": "004fPLdaLA1K"
      },
      "source": [
        "Predicción usando datos de entrenamiento:\n"
      ]
    },
    {
      "cell_type": "code",
      "metadata": {
        "colab": {
          "base_uri": "https://localhost:8080/"
        },
        "id": "z-96Oq4ULA1K",
        "outputId": "806508ee-2b4b-4658-9b13-e7af2b46ba11"
      },
      "source": [
        "yhat_train = lr.predict(x_train[['horsepower', 'curb-weight', 'engine-size', 'highway-mpg']])\n",
        "yhat_train[0:5]"
      ],
      "execution_count": 28,
      "outputs": [
        {
          "output_type": "execute_result",
          "data": {
            "text/plain": [
              "array([11927.70699817, 11236.71672034,  6436.91775515, 21890.22064982,\n",
              "       16667.18254832])"
            ]
          },
          "metadata": {
            "tags": []
          },
          "execution_count": 28
        }
      ]
    },
    {
      "cell_type": "markdown",
      "metadata": {
        "id": "dVH0sO3-LA1N"
      },
      "source": [
        "Predicción usando datos de prueba:\n"
      ]
    },
    {
      "cell_type": "code",
      "metadata": {
        "colab": {
          "base_uri": "https://localhost:8080/"
        },
        "id": "NedGAShkLA1N",
        "outputId": "749b930f-c980-4b02-c9c7-59efe2bb78cb"
      },
      "source": [
        "yhat_test = lr.predict(x_test[['horsepower', 'curb-weight', 'engine-size', 'highway-mpg']])\n",
        "yhat_test[0:5]"
      ],
      "execution_count": 29,
      "outputs": [
        {
          "output_type": "execute_result",
          "data": {
            "text/plain": [
              "array([11349.16502418,  5914.48335385, 11243.76325987,  6662.03197043,\n",
              "       15555.76936275])"
            ]
          },
          "metadata": {
            "tags": []
          },
          "execution_count": 29
        }
      ]
    },
    {
      "cell_type": "markdown",
      "metadata": {
        "id": "ezpjE37eLA1O"
      },
      "source": [
        "Ejecutemos alguna evaluación del modelo usando nuestros datos de entrenamiento y prueba por separado. Primero importaremos las librerias seaborn y matplotlib para graficar.\n"
      ]
    },
    {
      "cell_type": "code",
      "metadata": {
        "id": "4JzaworILA1O"
      },
      "source": [
        "import matplotlib.pyplot as plt\n",
        "%matplotlib inline\n",
        "import seaborn as sns"
      ],
      "execution_count": 30,
      "outputs": []
    },
    {
      "cell_type": "markdown",
      "metadata": {
        "id": "BLc4cUhKLA1Q"
      },
      "source": [
        "Examinemos la distribución de los valores esperados de los datos de entrenamiento.\n"
      ]
    },
    {
      "cell_type": "code",
      "metadata": {
        "colab": {
          "base_uri": "https://localhost:8080/",
          "height": 712
        },
        "id": "w2SWr4_DLA1Q",
        "outputId": "03d8fb2d-a884-446f-b24e-eca01735487e"
      },
      "source": [
        "Title = 'Distribution  Plot of  Predicted Value Using Training Data vs Training Data Distribution'\n",
        "DistributionPlot(y_train, yhat_train, \"Actual Values (Train)\", \"Predicted Values (Train)\", Title)"
      ],
      "execution_count": 31,
      "outputs": [
        {
          "output_type": "stream",
          "text": [
            "/usr/local/lib/python3.7/dist-packages/seaborn/distributions.py:2557: FutureWarning: `distplot` is a deprecated function and will be removed in a future version. Please adapt your code to use either `displot` (a figure-level function with similar flexibility) or `kdeplot` (an axes-level function for kernel density plots).\n",
            "  warnings.warn(msg, FutureWarning)\n",
            "/usr/local/lib/python3.7/dist-packages/seaborn/distributions.py:2557: FutureWarning: `distplot` is a deprecated function and will be removed in a future version. Please adapt your code to use either `displot` (a figure-level function with similar flexibility) or `kdeplot` (an axes-level function for kernel density plots).\n",
            "  warnings.warn(msg, FutureWarning)\n"
          ],
          "name": "stderr"
        },
        {
          "output_type": "display_data",
          "data": {
            "image/png": "[encoded data removed]",
            "text/plain": [
              "<Figure size 864x720 with 1 Axes>"
            ]
          },
          "metadata": {
            "tags": [],
            "needs_background": "light"
          }
        }
      ]
    },
    {
      "cell_type": "markdown",
      "metadata": {
        "id": "2zw0AcsALA1Q"
      },
      "source": [
        "Imagen 1: Gráfica de los valores esperados utilizando los datos de entrenamiento en comparación con los datos de entrenamiento.\n"
      ]
    },
    {
      "cell_type": "markdown",
      "metadata": {
        "id": "IL-e9BGvLA1R"
      },
      "source": [
        "Hasta ahora el modelo parece hacerlo bien con el conjunto de datos de entrenamiento. Pero ¿Que pasa cuando el modelo se encuentra con nuevos datos del conjunto de prueba? Cuando el modelo genera nuevos valores desde el conjunto de prueba podemos observar que la distribución de los valores esperados es muy diferente a los valores objetivos actuales.\n"
      ]
    },
    {
      "cell_type": "code",
      "metadata": {
        "colab": {
          "base_uri": "https://localhost:8080/",
          "height": 712
        },
        "id": "XhwagbGWLA1R",
        "outputId": "2dbe4e33-10ce-485d-b07d-8cd48d609d6a"
      },
      "source": [
        "Title='Distribution  Plot of  Predicted Value Using Test Data vs Data Distribution of Test Data'\n",
        "DistributionPlot(y_test,yhat_test,\"Actual Values (Test)\",\"Predicted Values (Test)\",Title)"
      ],
      "execution_count": 32,
      "outputs": [
        {
          "output_type": "stream",
          "text": [
            "/usr/local/lib/python3.7/dist-packages/seaborn/distributions.py:2557: FutureWarning: `distplot` is a deprecated function and will be removed in a future version. Please adapt your code to use either `displot` (a figure-level function with similar flexibility) or `kdeplot` (an axes-level function for kernel density plots).\n",
            "  warnings.warn(msg, FutureWarning)\n",
            "/usr/local/lib/python3.7/dist-packages/seaborn/distributions.py:2557: FutureWarning: `distplot` is a deprecated function and will be removed in a future version. Please adapt your code to use either `displot` (a figure-level function with similar flexibility) or `kdeplot` (an axes-level function for kernel density plots).\n",
            "  warnings.warn(msg, FutureWarning)\n"
          ],
          "name": "stderr"
        },
        {
          "output_type": "display_data",
          "data": {
            "image/png": "[encoded data removed]",
            "text/plain": [
              "<Figure size 864x720 with 1 Axes>"
            ]
          },
          "metadata": {
            "tags": [],
            "needs_background": "light"
          }
        }
      ]
    },
    {
      "cell_type": "markdown",
      "metadata": {
        "id": "-i2DAA-sLA1R"
      },
      "source": [
        "Imagen 2: Gráfica del valor esperado utilizando los datos de prueba en comparación con los datos de prueba.\n"
      ]
    },
    {
      "cell_type": "markdown",
      "metadata": {
        "id": "uSTV6hcELA1S"
      },
      "source": [
        "<p>Al comparar la Imagen 1 y 2 es evidente que la distribución de los datos de prueba en la imagen 1 se ajusta mucho mejor a los datos. Esta diferencia en la imagen 2 es evidente donde los rangos van desde 5000 a 15000. Aquí es donde la forma de la distribución es excepcionalmente distinta. Veamos si la regresión polinomial también muestra una caida en la precisión de la predicción cuando se analiza el conjunto de datos de prueba.</p>\n"
      ]
    },
    {
      "cell_type": "code",
      "metadata": {
        "id": "Bf6q_coFLA1S"
      },
      "source": [
        "from sklearn.preprocessing import PolynomialFeatures"
      ],
      "execution_count": 33,
      "outputs": []
    },
    {
      "cell_type": "markdown",
      "metadata": {
        "id": "NxNo_3rkLA1S"
      },
      "source": [
        "<h4>Sobre ajuste</h4>\n",
        "<p>El sobre ajuste sucede cuando el modelo ajusta el ruido y no el proceso subyacente. Por lo tanto cuando se prueba el modelo con el conjunto de pruebas, este no se desempeña tan bien debido a que esta modelando el ruido y no el proceso básico que genera la relación. Generemos un modelo polinomial de quinto grado.</p>\n"
      ]
    },
    {
      "cell_type": "markdown",
      "metadata": {
        "id": "1du1ObPrLA1T"
      },
      "source": [
        "Usemos el 55% de los datos para pruebas y el resto para entrenamiento.\n"
      ]
    },
    {
      "cell_type": "code",
      "metadata": {
        "id": "z0PueI9WLA1T"
      },
      "source": [
        "x_train, x_test, y_train, y_test = train_test_split(x_data, y_data, test_size=0.45, random_state=0)"
      ],
      "execution_count": 34,
      "outputs": []
    },
    {
      "cell_type": "markdown",
      "metadata": {
        "id": "iQIDl0KFLA1T"
      },
      "source": [
        "Ejecutaremos una transformación polinomial de quinto grado para la característica <b>'horse power'</b>.\n"
      ]
    },
    {
      "cell_type": "code",
      "metadata": {
        "colab": {
          "base_uri": "https://localhost:8080/"
        },
        "id": "N85zx2NzLA1T",
        "outputId": "4065fd74-41a7-4916-9c0b-783bc9619684"
      },
      "source": [
        "pr = PolynomialFeatures(degree=5)\n",
        "x_train_pr = pr.fit_transform(x_train[['horsepower']])\n",
        "x_test_pr = pr.fit_transform(x_test[['horsepower']])\n",
        "pr"
      ],
      "execution_count": 35,
      "outputs": [
        {
          "output_type": "execute_result",
          "data": {
            "text/plain": [
              "PolynomialFeatures(degree=5, include_bias=True, interaction_only=False,\n",
              "                   order='C')"
            ]
          },
          "metadata": {
            "tags": []
          },
          "execution_count": 35
        }
      ]
    },
    {
      "cell_type": "markdown",
      "metadata": {
        "id": "e_xOqj2_LA1U"
      },
      "source": [
        "Vamos a crear un modelo de regresión lineal \"poly\" y a entrenarlo.\n"
      ]
    },
    {
      "cell_type": "code",
      "metadata": {
        "colab": {
          "base_uri": "https://localhost:8080/"
        },
        "id": "Go_8Kl8tLA1U",
        "outputId": "538fdc94-11e2-473f-8fa9-a328012fdeab"
      },
      "source": [
        "poly = LinearRegression()\n",
        "poly.fit(x_train_pr, y_train)"
      ],
      "execution_count": 36,
      "outputs": [
        {
          "output_type": "execute_result",
          "data": {
            "text/plain": [
              "LinearRegression(copy_X=True, fit_intercept=True, n_jobs=None, normalize=False)"
            ]
          },
          "metadata": {
            "tags": []
          },
          "execution_count": 36
        }
      ]
    },
    {
      "cell_type": "markdown",
      "metadata": {
        "id": "a0Z4twKhLA1U"
      },
      "source": [
        "Podemos observar la salida del modelo utilizando el método \"predict\" y despues asignarle los valores a \"yhat\".\n"
      ]
    },
    {
      "cell_type": "code",
      "metadata": {
        "id": "mS_wMj56LA1V"
      },
      "source": [
        "yhat = poly.predict(x_test_pr)\n",
        "yhat[0:5]"
      ],
      "execution_count": null,
      "outputs": []
    },
    {
      "cell_type": "markdown",
      "metadata": {
        "id": "777wPLocLA1V"
      },
      "source": [
        "Tomemos los primeros cinco valores esperados y comparemoslos con los objetivos actuales.\n"
      ]
    },
    {
      "cell_type": "code",
      "metadata": {
        "id": "0wlDK6r0LA1V"
      },
      "source": [
        "print(\"Predicted values:\", yhat[0:4])\n",
        "print(\"True values:\", y_test[0:4].values)"
      ],
      "execution_count": null,
      "outputs": []
    },
    {
      "cell_type": "markdown",
      "metadata": {
        "id": "J6y2RzKqLA1W"
      },
      "source": [
        "Usaremos la función \"PollyPlot\" definida al principio del laboratorio para mostrar los datos de entrenamiento, los de pruebas y la función esperada.\n"
      ]
    },
    {
      "cell_type": "code",
      "metadata": {
        "scrolled": false,
        "colab": {
          "base_uri": "https://localhost:8080/",
          "height": 594
        },
        "id": "xXeCGzwZLA1W",
        "outputId": "77f5f094-1243-443b-db90-dd46dd20c61b"
      },
      "source": [
        "PollyPlot(x_train[['horsepower']], x_test[['horsepower']], y_train, y_test, poly,pr)"
      ],
      "execution_count": 37,
      "outputs": [
        {
          "output_type": "display_data",
          "data": {
            "image/png": "[encoded data removed]",
            "text/plain": [
              "<Figure size 864x720 with 1 Axes>"
            ]
          },
          "metadata": {
            "tags": [],
            "needs_background": "light"
          }
        }
      ]
    },
    {
      "cell_type": "markdown",
      "metadata": {
        "id": "_jjErR3ELA1W"
      },
      "source": [
        "Imagen 4: Un modelo de regresión polinomial, los puntos rojos representan datos de entrenamiento, los verdes los de pruebas y la recta azul la predicción del modelo.\n"
      ]
    },
    {
      "cell_type": "markdown",
      "metadata": {
        "id": "VAiSErewLA1X"
      },
      "source": [
        "Observamos que la función estimada parece tener la trayectoria de los datos pero hasta 200 \"horsepower\", la función empieza a desviarse de los puntos que representan los datos.\n"
      ]
    },
    {
      "cell_type": "markdown",
      "metadata": {
        "id": "aC-bf01eLA1X"
      },
      "source": [
        " R^2 de los datos de entrenamiento:\n"
      ]
    },
    {
      "cell_type": "code",
      "metadata": {
        "colab": {
          "base_uri": "https://localhost:8080/"
        },
        "id": "_EyJJW_rLA1X",
        "outputId": "58497015-899c-496c-fad1-1b3e521c028b"
      },
      "source": [
        "poly.score(x_train_pr, y_train)"
      ],
      "execution_count": 38,
      "outputs": [
        {
          "output_type": "execute_result",
          "data": {
            "text/plain": [
              "0.5567716902120254"
            ]
          },
          "metadata": {
            "tags": []
          },
          "execution_count": 38
        }
      ]
    },
    {
      "cell_type": "markdown",
      "metadata": {
        "id": "mFa4t4mFLA1Y"
      },
      "source": [
        " R^2 de los datos de prueba:\n"
      ]
    },
    {
      "cell_type": "code",
      "metadata": {
        "colab": {
          "base_uri": "https://localhost:8080/"
        },
        "id": "lJGU2mfYLA1Y",
        "outputId": "fb3abe46-2eda-4bdf-b042-8c3e3dc6c9df"
      },
      "source": [
        "poly.score(x_test_pr, y_test)"
      ],
      "execution_count": 39,
      "outputs": [
        {
          "output_type": "execute_result",
          "data": {
            "text/plain": [
              "-29.87134030204371"
            ]
          },
          "metadata": {
            "tags": []
          },
          "execution_count": 39
        }
      ]
    },
    {
      "cell_type": "markdown",
      "metadata": {
        "id": "iuxwgt7HLA1Z"
      },
      "source": [
        "Observamos que R^2 para los datos de entrenamiento es de 0.5567 mientras que para los de prueba es de -29.87. Cuanto mas bajo sea R^2 peor será el modelo, un R^2 negativo es una señal de sobre ajuste.\n"
      ]
    },
    {
      "cell_type": "markdown",
      "metadata": {
        "id": "OnQ65SDLLA1Z"
      },
      "source": [
        "Veamos como cambia R^2 en los datos de prueba para polinomios de distinta magnitud y grafiquemos los resultados:\n"
      ]
    },
    {
      "cell_type": "code",
      "metadata": {
        "colab": {
          "base_uri": "https://localhost:8080/",
          "height": 294
        },
        "id": "0mEZnSTRLA1Z",
        "outputId": "2632d602-d9f0-4ac1-cce1-c5cb1fd8bacc"
      },
      "source": [
        "Rsqu_test = []\n",
        "\n",
        "order = [1, 2, 3, 4]\n",
        "for n in order:\n",
        "    pr = PolynomialFeatures(degree=n)\n",
        "    \n",
        "    x_train_pr = pr.fit_transform(x_train[['horsepower']])\n",
        "    \n",
        "    x_test_pr = pr.fit_transform(x_test[['horsepower']])    \n",
        "    \n",
        "    lr.fit(x_train_pr, y_train)\n",
        "    \n",
        "    Rsqu_test.append(lr.score(x_test_pr, y_test))\n",
        "\n",
        "plt.plot(order, Rsqu_test)\n",
        "plt.xlabel('order')\n",
        "plt.ylabel('R^2')\n",
        "plt.title('R^2 Using Test Data')\n",
        "plt.text(3, 0.72, 'Maximum R^2 ');   "
      ],
      "execution_count": 42,
      "outputs": [
        {
          "output_type": "display_data",
          "data": {
            "image/png": "[encoded data removed]",
            "text/plain": [
              "<Figure size 432x288 with 1 Axes>"
            ]
          },
          "metadata": {
            "tags": [],
            "needs_background": "light"
          }
        }
      ]
    },
    {
      "cell_type": "markdown",
      "metadata": {
        "id": "NZp80LApLA1a"
      },
      "source": [
        "Vemos que R^2 se incrementa gradualmente hasta que se utiliza un polinomio de tercer grado. Despues R^2 decrece dramaticamente en el de cuarto grado.\n"
      ]
    },
    {
      "cell_type": "markdown",
      "metadata": {
        "id": "S3uCGy_uLA1a"
      },
      "source": [
        "La siguiente función se usará en la próxima sección; ejecuta por favor la celda de código\n"
      ]
    },
    {
      "cell_type": "code",
      "metadata": {
        "collapsed": true,
        "id": "kjBioMf2LA1a"
      },
      "source": [
        "def f(order, test_data):\n",
        "    x_train, x_test, y_train, y_test = train_test_split(x_data, y_data, test_size=test_data, random_state=0)\n",
        "    pr = PolynomialFeatures(degree=order)\n",
        "    x_train_pr = pr.fit_transform(x_train[['horsepower']])\n",
        "    x_test_pr = pr.fit_transform(x_test[['horsepower']])\n",
        "    poly = LinearRegression()\n",
        "    poly.fit(x_train_pr,y_train)\n",
        "    PollyPlot(x_train[['horsepower']], x_test[['horsepower']], y_train,y_test, poly, pr)"
      ],
      "execution_count": 43,
      "outputs": []
    },
    {
      "cell_type": "markdown",
      "metadata": {
        "id": "74W9G6DmLA1c"
      },
      "source": [
        "La siguiente interfaz le permitirá experimentar con polinomios de distinto grado y cantidades de datos.\n"
      ]
    },
    {
      "cell_type": "code",
      "metadata": {
        "colab": {
          "base_uri": "https://localhost:8080/",
          "height": 676,
          "referenced_widgets": [
            "1f627f61a1cb48d7976368261e7ada46",
            "5ef3cb6958da4691b8b764ca8cd81299",
            "26493c5ee49e43dd9043152f7a378125",
            "1999ecfaa9af4b9c835b71349859d9f8",
            "c0c75d3c2a2d4cf896c4f28a17cbc4ee",
            "72cc9c853d3849b2bd8b71350c394161",
            "f5bbb80ed3b841c9a110f66392f844c5",
            "51c34de1cec842d49571e7ddc879cb7d",
            "b762f5f4874c4936ab23893287d4cb46",
            "c3db187ebe1c4393a258960029050814"
          ]
        },
        "id": "NCSQqV7kLA1d",
        "outputId": "c41b046d-f13b-409f-a4ab-030099680e5c"
      },
      "source": [
        "interact(f, order=(0, 6, 1), test_data=(0.05, 0.95, 0.05))"
      ],
      "execution_count": 44,
      "outputs": [
        {
          "output_type": "display_data",
          "data": {
            "application/vnd.jupyter.widget-view+json": {
              "model_id": "1f627f61a1cb48d7976368261e7ada46",
              "version_minor": 0,
              "version_major": 2
            },
            "text/plain": [
              "interactive(children=(IntSlider(value=3, description='order', max=6), FloatSlider(value=0.45, description='tes…"
            ]
          },
          "metadata": {
            "tags": []
          }
        },
        {
          "output_type": "execute_result",
          "data": {
            "text/plain": [
              "<function __main__.f>"
            ]
          },
          "metadata": {
            "tags": []
          },
          "execution_count": 44
        }
      ]
    },
    {
      "cell_type": "markdown",
      "metadata": {
        "id": "p6u0EW-WLA1e"
      },
      "source": [
        "<div class=\"alert alert-danger alertdanger\" style=\"margin-top: 20px\">\n",
        "<h1> Pregunta  #4a):</h1>\n",
        "\n",
        "<b>Podemos ejecutar una transformación polinomial con mas de una característica. Genere un objeto \"prl\" tipo \"PolynomialFeatures\" de segundo grado.</b>\n",
        "\n",
        "```\n",
        "\n",
        "```\n"
      ]
    },
    {
      "cell_type": "code",
      "metadata": {
        "id": "FwufQj2ZN8fv"
      },
      "source": [
        "pr1=PolynomialFeatures(degree=2)"
      ],
      "execution_count": 45,
      "outputs": []
    },
    {
      "cell_type": "markdown",
      "metadata": {
        "id": "T3kBanpGLA1f"
      },
      "source": [
        "<div class=\"alert alert-danger alertdanger\" style=\"margin-top: 20px\">\n",
        "<h1> Pregunta  #4b): </h1>\n",
        "\n",
        "<b> \n",
        " Transforme las muestras de entrenamiento y pruebas para las caracteísticas 'horsepower', 'curb-weight', 'engine-size' y 'highway-mpg'. Pista: utilice el método \"fit_transform\".</b>\n",
        "</div>\n"
      ]
    },
    {
      "cell_type": "code",
      "metadata": {
        "id": "i1F75TmQOBLl"
      },
      "source": [
        "x_train_pr1=pr.fit_transform(x_train[['horsepower', 'curb-weight', 'engine-size', 'highway-mpg']])\n",
        "\n",
        "x_test_pr1=pr.fit_transform(x_test[['horsepower', 'curb-weight', 'engine-size', 'highway-mpg']])"
      ],
      "execution_count": 46,
      "outputs": []
    },
    {
      "cell_type": "markdown",
      "metadata": {
        "id": "Vb_j2sr0LA1j"
      },
      "source": [
        "<!-- The answer is below:\n",
        "\n",
        "x_train_pr1=pr.fit_transform(x_train[['horsepower', 'curb-weight', 'engine-size', 'highway-mpg']])\n",
        "x_test_pr1=pr.fit_transform(x_test[['horsepower', 'curb-weight', 'engine-size', 'highway-mpg']])\n",
        "\n",
        "-->\n"
      ]
    },
    {
      "cell_type": "markdown",
      "metadata": {
        "id": "KjOuMmTULA1j"
      },
      "source": [
        "<div class=\"alert alert-danger alertdanger\" style=\"margin-top: 20px\">\n",
        "<h1> Pregunta  #4c): </h1>\n",
        "<b> \n",
        "¿Cuantas dimensiones tiene la nueva característica? Pista: utilice el atributo \"shape\".    \n",
        "  </b>\n",
        "</div>\n"
      ]
    },
    {
      "cell_type": "code",
      "metadata": {
        "colab": {
          "base_uri": "https://localhost:8080/"
        },
        "id": "8aghbWvbOPKx",
        "outputId": "dc80a2fe-e431-4377-8c31-4653c923801e"
      },
      "source": [
        "print('There are now 15 features:',  x_train_pr1.shape)"
      ],
      "execution_count": 49,
      "outputs": [
        {
          "output_type": "stream",
          "text": [
            "There are now 15 features: (110, 70)\n"
          ],
          "name": "stdout"
        }
      ]
    },
    {
      "cell_type": "markdown",
      "metadata": {
        "id": "DDn6WF6ILA1n"
      },
      "source": [
        "<h2 id=\"ref3\">Parte 3: Regresión de Cresta</h2> \n"
      ]
    },
    {
      "cell_type": "markdown",
      "metadata": {
        "id": "HKFZ2vkKLA1n"
      },
      "source": [
        "En esta sección revisaremos la regresión de cresta y como el parametro Alfa modifica el modelo. Como observación, nuestros datos de prueba seran usados como datos de validación. \n"
      ]
    },
    {
      "cell_type": "markdown",
      "metadata": {
        "id": "NEt_AndTLA1o"
      },
      "source": [
        " Realicemos una transformación polinomial de segundo grado en nuestros datos.\n"
      ]
    },
    {
      "cell_type": "code",
      "metadata": {
        "collapsed": true,
        "id": "QMCQXTmULA1o"
      },
      "source": [
        "pr=PolynomialFeatures(degree=2)\n",
        "x_train_pr=pr.fit_transform(x_train[['horsepower', 'curb-weight', 'engine-size', 'highway-mpg','normalized-losses','symboling']])\n",
        "x_test_pr=pr.fit_transform(x_test[['horsepower', 'curb-weight', 'engine-size', 'highway-mpg','normalized-losses','symboling']])"
      ],
      "execution_count": 51,
      "outputs": []
    },
    {
      "cell_type": "markdown",
      "metadata": {
        "id": "J-OWUFpzLA1o"
      },
      "source": [
        " Importemos <b>Ridge</b> desde el módulo <b>linear models</b>.\n"
      ]
    },
    {
      "cell_type": "code",
      "metadata": {
        "collapsed": true,
        "id": "9Hs0HR2pLA1p"
      },
      "source": [
        "from sklearn.linear_model import Ridge"
      ],
      "execution_count": 52,
      "outputs": []
    },
    {
      "cell_type": "markdown",
      "metadata": {
        "id": "I8_mGaabLA1p"
      },
      "source": [
        "Generemos un objeto de tipo regresión de cresta, establezca el parametro de regularización a 0.1\n"
      ]
    },
    {
      "cell_type": "code",
      "metadata": {
        "collapsed": true,
        "id": "n5rbq9kRLA1p"
      },
      "source": [
        "RigeModel=Ridge(alpha=0.1)"
      ],
      "execution_count": 53,
      "outputs": []
    },
    {
      "cell_type": "markdown",
      "metadata": {
        "id": "X7AI54dTLA1p"
      },
      "source": [
        "Al igual que la regresión lineal, se puede ajustar el modelo con el método <b>fit</b>.\n"
      ]
    },
    {
      "cell_type": "code",
      "metadata": {
        "colab": {
          "base_uri": "https://localhost:8080/"
        },
        "id": "3JBHaAu5LA1q",
        "outputId": "4bf8dec2-8714-434a-e83e-7915af88befe"
      },
      "source": [
        "RigeModel.fit(x_train_pr, y_train)"
      ],
      "execution_count": 54,
      "outputs": [
        {
          "output_type": "stream",
          "text": [
            "/usr/local/lib/python3.7/dist-packages/sklearn/linear_model/_ridge.py:148: LinAlgWarning: Ill-conditioned matrix (rcond=1.02972e-16): result may not be accurate.\n",
            "  overwrite_a=True).T\n"
          ],
          "name": "stderr"
        },
        {
          "output_type": "execute_result",
          "data": {
            "text/plain": [
              "Ridge(alpha=0.1, copy_X=True, fit_intercept=True, max_iter=None,\n",
              "      normalize=False, random_state=None, solver='auto', tol=0.001)"
            ]
          },
          "metadata": {
            "tags": []
          },
          "execution_count": 54
        }
      ]
    },
    {
      "cell_type": "markdown",
      "metadata": {
        "id": "l1G81ElSLA1q"
      },
      "source": [
        "De igual forma se puede obtener una predicción:\n"
      ]
    },
    {
      "cell_type": "code",
      "metadata": {
        "id": "-rNobtYeLA1q"
      },
      "source": [
        "yhat = RigeModel.predict(x_test_pr)"
      ],
      "execution_count": 55,
      "outputs": []
    },
    {
      "cell_type": "markdown",
      "metadata": {
        "id": "4KYZ6PDpLA1r"
      },
      "source": [
        "Comparemos las primeras cinco muestras esperadas con nuestor conjunto de pruebas.\n"
      ]
    },
    {
      "cell_type": "code",
      "metadata": {
        "colab": {
          "base_uri": "https://localhost:8080/"
        },
        "id": "mkJ0PSiQLA1r",
        "outputId": "cda0f588-4c16-4b44-feda-6086422266e3"
      },
      "source": [
        "print('predicted:', yhat[0:4])\n",
        "print('test set :', y_test[0:4].values)"
      ],
      "execution_count": 56,
      "outputs": [
        {
          "output_type": "stream",
          "text": [
            "predicted: [ 6567.83081933  9597.97151399 20836.22326843 19347.69543463]\n",
            "test set : [ 6295. 10698. 13860. 13499.]\n"
          ],
          "name": "stdout"
        }
      ]
    },
    {
      "cell_type": "markdown",
      "metadata": {
        "id": "6lFO26LLLA1r"
      },
      "source": [
        "Seleccionamos el valor de Alfa que minimiza el error de prueba, por ejemplo, podemos utilizar un ciclo for.\n"
      ]
    },
    {
      "cell_type": "code",
      "metadata": {
        "id": "9qAoE2FZLA1t"
      },
      "source": [
        "Rsqu_test = []\n",
        "Rsqu_train = []\n",
        "dummy1 = []\n",
        "ALFA = 10 * np.array(range(0,1000))\n",
        "for alfa in ALFA:\n",
        "    RigeModel = Ridge(alpha=alfa) \n",
        "    RigeModel.fit(x_train_pr, y_train)\n",
        "    Rsqu_test.append(RigeModel.score(x_test_pr, y_test))\n",
        "    Rsqu_train.append(RigeModel.score(x_train_pr, y_train))"
      ],
      "execution_count": 57,
      "outputs": []
    },
    {
      "cell_type": "markdown",
      "metadata": {
        "id": "WqIfY8xDLA1u"
      },
      "source": [
        "Podemos graficar el valor de R^2 para distintas Alphas.\n"
      ]
    },
    {
      "cell_type": "code",
      "metadata": {
        "colab": {
          "base_uri": "https://localhost:8080/",
          "height": 623
        },
        "id": "9h9CkWciLA1v",
        "outputId": "585bd537-0b86-4e82-bbbb-4f49daff3928"
      },
      "source": [
        "width = 12\n",
        "height = 10\n",
        "plt.figure(figsize=(width, height))\n",
        "\n",
        "plt.plot(ALFA,Rsqu_test, label='validation data  ')\n",
        "plt.plot(ALFA,Rsqu_train, 'r', label='training Data ')\n",
        "plt.xlabel('alpha')\n",
        "plt.ylabel('R^2')\n",
        "plt.legend()"
      ],
      "execution_count": 58,
      "outputs": [
        {
          "output_type": "execute_result",
          "data": {
            "text/plain": [
              "<matplotlib.legend.Legend at 0x7fb4974d36d0>"
            ]
          },
          "metadata": {
            "tags": []
          },
          "execution_count": 58
        },
        {
          "output_type": "display_data",
          "data": {
            "image/png": "[encoded data removed]",
            "text/plain": [
              "<Figure size 864x720 with 1 Axes>"
            ]
          },
          "metadata": {
            "tags": [],
            "needs_background": "light"
          }
        }
      ]
    },
    {
      "cell_type": "markdown",
      "metadata": {
        "id": "S4gn9-epLA1v"
      },
      "source": [
        "Imagen 6: La recta azul representa a R^2 de los datos de prueba y la recta roja al R^2 de los datos de entrenamiento. El eje x representa los distintos valores de Alfa.\n"
      ]
    },
    {
      "cell_type": "markdown",
      "metadata": {
        "id": "l8sQp1ZXLA1v"
      },
      "source": [
        "La recta roja en la imagen 6 representa a R^2 de los datos de pruebas, al incrementarse Alpha R^2 disminuye; por lo tanto mientras Alfa aumenta el modelo se comporta de peor forma en los datos de prueba. La recta azul representa la R^2 en los datos de validación, mientras el valor de Alfa aumenta el de R^2 disminuye.\n"
      ]
    },
    {
      "cell_type": "markdown",
      "metadata": {
        "id": "cDj7LkzLLA1w"
      },
      "source": [
        "<div class=\"alert alert-danger alertdanger\" style=\"margin-top: 20px\">\n",
        "<h1> Pregunta  #5): </h1>\n",
        "\n",
        "Haga un regresión de cresta y calcule el R^2 usando las características polinomiales, utilice los datos de entrenamiento para entrenar el modelo y datos de prueba para probarlo. El parametro alpha debe establecerse en 10.\n",
        "\n",
        "  </div>\n"
      ]
    },
    {
      "cell_type": "code",
      "metadata": {
        "colab": {
          "base_uri": "https://localhost:8080/"
        },
        "id": "d7W4nPbeLA1w",
        "outputId": "5ec46f11-a79c-442a-bd3d-05129add645e"
      },
      "source": [
        "# Escribe tu código aquí y presiona Shift+Enter para ejecutar\n",
        "\n",
        "RigeModel = Ridge(alpha=10) \n",
        "RigeModel.fit(x_train_pr, y_train)\n",
        "RigeModel.score(x_test_pr, y_test)\n"
      ],
      "execution_count": 59,
      "outputs": [
        {
          "output_type": "execute_result",
          "data": {
            "text/plain": [
              "0.5418576440206698"
            ]
          },
          "metadata": {
            "tags": []
          },
          "execution_count": 59
        }
      ]
    },
    {
      "cell_type": "markdown",
      "metadata": {
        "id": "JCh0M8rGLA1x"
      },
      "source": [
        "<h2 id=\"ref4\">Parte 4: Busqueda en Rejilla</h2>\n"
      ]
    },
    {
      "cell_type": "markdown",
      "metadata": {
        "id": "VDOvbN8PLA1x"
      },
      "source": [
        "El termino Alfa es un hiperparametro, sklearn tiene la clase <b>GridSearchCV</b> para hacer el proceso de encontrar el mejor hiperparametro mas facil.\n"
      ]
    },
    {
      "cell_type": "markdown",
      "metadata": {
        "id": "xIRMAJNQLA1x"
      },
      "source": [
        "Importemos <b>GridSearchCV</b> desde el módulo <b>model_selection</b>.\n"
      ]
    },
    {
      "cell_type": "code",
      "metadata": {
        "id": "rDuIaRpPLA1y"
      },
      "source": [
        "from sklearn.model_selection import GridSearchCV"
      ],
      "execution_count": 60,
      "outputs": []
    },
    {
      "cell_type": "markdown",
      "metadata": {
        "id": "p8gKDvj2LA1y"
      },
      "source": [
        "Creamos un diccionario de valores de parametros.\n"
      ]
    },
    {
      "cell_type": "code",
      "metadata": {
        "colab": {
          "base_uri": "https://localhost:8080/"
        },
        "id": "-TwCZq2fLA1y",
        "outputId": "f77de215-6add-4c21-f5bb-a68dd2c5555c"
      },
      "source": [
        "parameters1= [{'alpha': [0.001,0.1,1, 10, 100, 1000, 10000, 100000, 100000]}]\n",
        "parameters1"
      ],
      "execution_count": 61,
      "outputs": [
        {
          "output_type": "execute_result",
          "data": {
            "text/plain": [
              "[{'alpha': [0.001, 0.1, 1, 10, 100, 1000, 10000, 100000, 100000]}]"
            ]
          },
          "metadata": {
            "tags": []
          },
          "execution_count": 61
        }
      ]
    },
    {
      "cell_type": "markdown",
      "metadata": {
        "id": "cg47uhOSLA1z"
      },
      "source": [
        "Creamos un objeto de regiones de cresta:\n"
      ]
    },
    {
      "cell_type": "code",
      "metadata": {
        "colab": {
          "base_uri": "https://localhost:8080/"
        },
        "id": "PQ-vAqf0LA1z",
        "outputId": "227de807-69e3-474b-c9fe-d52d9993e72b"
      },
      "source": [
        "RR=Ridge()\n",
        "RR"
      ],
      "execution_count": 62,
      "outputs": [
        {
          "output_type": "execute_result",
          "data": {
            "text/plain": [
              "Ridge(alpha=1.0, copy_X=True, fit_intercept=True, max_iter=None,\n",
              "      normalize=False, random_state=None, solver='auto', tol=0.001)"
            ]
          },
          "metadata": {
            "tags": []
          },
          "execution_count": 62
        }
      ]
    },
    {
      "cell_type": "markdown",
      "metadata": {
        "id": "9p8m0l9JLA1z"
      },
      "source": [
        "Creamos un objeto de busqeda de rejilla de cresta:\n"
      ]
    },
    {
      "cell_type": "code",
      "metadata": {
        "id": "Q9QxUOA1LA1z"
      },
      "source": [
        "Grid1 = GridSearchCV(RR, parameters1,cv=4)"
      ],
      "execution_count": 63,
      "outputs": []
    },
    {
      "cell_type": "markdown",
      "metadata": {
        "id": "kQUFBySDLA10"
      },
      "source": [
        "Ajustamos el modelo\n"
      ]
    },
    {
      "cell_type": "code",
      "metadata": {
        "colab": {
          "base_uri": "https://localhost:8080/"
        },
        "id": "L4KhF9qXLA10",
        "outputId": "14353551-7009-4d14-e8c1-1da2827d35fb"
      },
      "source": [
        "Grid1.fit(x_data[['horsepower', 'curb-weight', 'engine-size', 'highway-mpg']], y_data)"
      ],
      "execution_count": 64,
      "outputs": [
        {
          "output_type": "execute_result",
          "data": {
            "text/plain": [
              "GridSearchCV(cv=4, error_score=nan,\n",
              "             estimator=Ridge(alpha=1.0, copy_X=True, fit_intercept=True,\n",
              "                             max_iter=None, normalize=False, random_state=None,\n",
              "                             solver='auto', tol=0.001),\n",
              "             iid='deprecated', n_jobs=None,\n",
              "             param_grid=[{'alpha': [0.001, 0.1, 1, 10, 100, 1000, 10000, 100000,\n",
              "                                    100000]}],\n",
              "             pre_dispatch='2*n_jobs', refit=True, return_train_score=False,\n",
              "             scoring=None, verbose=0)"
            ]
          },
          "metadata": {
            "tags": []
          },
          "execution_count": 64
        }
      ]
    },
    {
      "cell_type": "markdown",
      "metadata": {
        "id": "_mLf_KufLA10"
      },
      "source": [
        "El objeto encuentra los mejores valores de parametro en los datos de validación. Podemos obtener el estimador con los mejor parametros y asignarlo a la variable BestRR de la siguiente manera:\n"
      ]
    },
    {
      "cell_type": "code",
      "metadata": {
        "colab": {
          "base_uri": "https://localhost:8080/"
        },
        "id": "FygpueIQLA11",
        "outputId": "14b6ee54-daa7-4332-827c-8ca87d0d2553"
      },
      "source": [
        "BestRR=Grid1.best_estimator_\n",
        "BestRR"
      ],
      "execution_count": 65,
      "outputs": [
        {
          "output_type": "execute_result",
          "data": {
            "text/plain": [
              "Ridge(alpha=10000, copy_X=True, fit_intercept=True, max_iter=None,\n",
              "      normalize=False, random_state=None, solver='auto', tol=0.001)"
            ]
          },
          "metadata": {
            "tags": []
          },
          "execution_count": 65
        }
      ]
    },
    {
      "cell_type": "markdown",
      "metadata": {
        "id": "KiyXZ--9LA11"
      },
      "source": [
        "Probamos ahora nuestro modelo en los datos de prueba \n"
      ]
    },
    {
      "cell_type": "code",
      "metadata": {
        "colab": {
          "base_uri": "https://localhost:8080/"
        },
        "id": "_Nofn_BxLA11",
        "outputId": "d19c4da8-e9ff-4711-ad93-d306b4a55c85"
      },
      "source": [
        "BestRR.score(x_test[['horsepower', 'curb-weight', 'engine-size', 'highway-mpg']], y_test)"
      ],
      "execution_count": 66,
      "outputs": [
        {
          "output_type": "execute_result",
          "data": {
            "text/plain": [
              "0.8411649831036152"
            ]
          },
          "metadata": {
            "tags": []
          },
          "execution_count": 66
        }
      ]
    },
    {
      "cell_type": "markdown",
      "metadata": {
        "id": "YB093cDjLA12"
      },
      "source": [
        "<div class=\"alert alert-danger alertdanger\" style=\"margin-top: 20px\">\n",
        "<h1> Pregunta  #6): </h1>\n",
        "Ejecutamos una busqueda de rejilla para el parámetro alfa y el de normalización, despues encuentre el mejor valor para los parámetros.\n",
        " </div>\n"
      ]
    },
    {
      "cell_type": "code",
      "metadata": {
        "colab": {
          "base_uri": "https://localhost:8080/"
        },
        "id": "qvVDqa_RLA12",
        "outputId": "4f569300-6e6c-4eea-cb86-88f506f8d168"
      },
      "source": [
        "# Escribe tu código aquí y presiona Shift+Enter para ejecutar\n",
        "parameters2= [{'alpha': [0.001,0.1,1, 10, 100, 1000,10000,100000,100000],'normalize':[True,False]} ]\n",
        "Grid2 = GridSearchCV(Ridge(), parameters2,cv=4)\n",
        "Grid2.fit(x_data[['horsepower', 'curb-weight', 'engine-size', 'highway-mpg']],y_data)\n",
        "Grid2.best_estimator_"
      ],
      "execution_count": 67,
      "outputs": [
        {
          "output_type": "execute_result",
          "data": {
            "text/plain": [
              "Ridge(alpha=0.1, copy_X=True, fit_intercept=True, max_iter=None, normalize=True,\n",
              "      random_state=None, solver='auto', tol=0.001)"
            ]
          },
          "metadata": {
            "tags": []
          },
          "execution_count": 67
        }
      ]
    },
    {
      "cell_type": "markdown",
      "metadata": {
        "id": "BgRiVW0wLA13"
      },
      "source": [
        "<h1>Gracias por terminar este cuaderno</h1>\n"
      ]
    },
    {
      "cell_type": "markdown",
      "metadata": {
        "id": "cO1M9jkELA13"
      },
      "source": [
        "<div class=\"alert alert-block alert-info\" style=\"margin-top: 20px\">\n",
        "\n",
        "```\n",
        "<p><a href=\"https://cocl.us/corsera_da0101en_notebook_bottom\"><img src=\"https://s3-api.us-geo.objectstorage.softlayer.net/cf-courses-data/CognitiveClass/DA0101EN/Images/BottomAd.png\" width=\"750\" align=\"center\"></a></p>\n",
        "```\n",
        "\n",
        "</div>\n"
      ]
    },
    {
      "cell_type": "markdown",
      "metadata": {
        "id": "raKoJWBULA13"
      },
      "source": [
        "<h3>Acerca de los Autores:</h3>\n",
        "\n",
        "Este cuaderno fue escrito por <a href=\"https://www.linkedin.com/in/mahdi-noorian-58219234/\" target=\"_blank\">Mahdi Noorian PhD</a>, <a href=\"https://www.linkedin.com/in/joseph-s-50398b136/\" target=\"_blank\">Joseph Santarcangelo</a>, Bahare Talayian, Eric Xiao, Steven Dong, Parizad, Hima Vsudevan y <a href=\"https://www.linkedin.com/in/fiorellawever/\" target=\"_blank\">Fiorella Wenver</a> y <a href=\" https://www.linkedin.com/in/yi-leng-yao-84451275/ \" target=\"_blank\" >Yi Yao</a>.\n",
        "\n",
        "<p><a href=\"https://www.linkedin.com/in/joseph-s-50398b136/\" target=\"_blank\">Joseph Santarcangelo</a> es un Cientifico de Datos en IBM que posee un Doctorado en Ingeniería Electrica. Su investigación se enfoca en el uso de Aprendizaje Automático, Procesamiento de Señales y Visión Artificial para determinar el impacto de los videos en la cognición. Joseph ha trabajado para IBM desde el término de su doctorado.\n",
        "</p>\n"
      ]
    },
    {
      "cell_type": "markdown",
      "metadata": {
        "id": "Mov60HjSLA14"
      },
      "source": [
        "<hr>\n",
        "<p>Copyright &copy; 2018 IBM Developer Skills Network. This notebook and its source code are released under the terms of the <a href=\"https://cognitiveclass.ai/mit-license/\">MIT License</a>.</p>\n"
      ]
    },
    {
      "cell_type": "code",
      "metadata": {
        "id": "w3bSB8pXLA16",
        "outputId": "85dc59bd-b363-4b59-9b14-5a09613a8146"
      },
      "source": [
        "import io\n",
        "from IPython.nbformat import current\n",
        "\n",
        "filepath = \"review-introduction.ipynb\"\n",
        "\n",
        "with io.open(filepath, 'r', encoding='utf-8') as f:\n",
        "    nb = current.read(f, 'json')\n",
        "\n",
        "word_count = 0\n",
        "for cell in nb.worksheets[0].cells:\n",
        "    if cell.cell_type == \"markdown\":\n",
        "        word_count += len(cell['source'].replace('#', '').lstrip().split(' '))\n",
        "print(word_count)"
      ],
      "execution_count": null,
      "outputs": [
        {
          "output_type": "stream",
          "text": [
            "/usr/local/lib/python3.7/site-packages/IPython/nbformat.py:13: ShimWarning: The `IPython.nbformat` package has been deprecated since IPython 4.0. You should import from nbformat instead.\n",
            "  \"You should import from nbformat instead.\", ShimWarning)\n",
            "/usr/local/lib/python3.7/site-packages/nbformat/current.py:19: UserWarning: nbformat.current is deprecated.\n",
            "\n",
            "- use nbformat for read/write/validate public API\n",
            "- use nbformat.vX directly to composing notebooks of a particular version\n",
            "\n",
            "  \"\"\")\n"
          ],
          "name": "stderr"
        },
        {
          "output_type": "stream",
          "text": [
            "2102\n"
          ],
          "name": "stdout"
        }
      ]
    },
    {
      "cell_type": "code",
      "metadata": {
        "id": "tDU0d73gLA17"
      },
      "source": [
        ""
      ],
      "execution_count": null,
      "outputs": []
    }
  ]
}